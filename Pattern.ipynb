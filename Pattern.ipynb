{
 "cells": [
  {
   "cell_type": "code",
   "execution_count": null,
   "id": "b04d7d6e",
   "metadata": {},
   "outputs": [],
   "source": [
    "0 0 0 0 5 0 0 0 0 \n",
    "0 0 0 4 8 12 0 0 0 \n",
    "0 0 3 6 9 12 15 0 0\n",
    "0 2 4 6 8 10 12 14 0\n",
    "1 2 3 4 5 6 7 8 9 "
   ]
  },
  {
   "cell_type": "code",
   "execution_count": 35,
   "id": "f60e40f8",
   "metadata": {},
   "outputs": [
    {
     "name": "stdout",
     "output_type": "stream",
     "text": [
      "0 0 0 0 5 0 0 0 0 \n",
      "0 0 0 4 8 12 0 0 0 \n",
      "0 0 3 6 9 12 15 0 0 \n",
      "0 2 4 6 8 10 12 14 0 \n",
      "1 2 3 4 5 6 7 8 9 \n"
     ]
    }
   ],
   "source": [
    "n = 5\n",
    "\n",
    "term = 1\n",
    "number = n\n",
    "\n",
    "for i in range(1, n+1):\n",
    "    for j in range(1, n+1-i):\n",
    "        print(\"0\", end = \" \")\n",
    "    \n",
    "    for k in range(term):\n",
    "        print(number,end = \" \")\n",
    "        number = number + n+1-i\n",
    "        \n",
    "    number = n-i\n",
    "    \n",
    "    for j in range(1, n+1-i):\n",
    "        print(\"0\", end = \" \")  \n",
    "    \n",
    "    \n",
    "    term+=2 #number of terms to be printed in each line\n",
    "    \n",
    "    print()"
   ]
  },
  {
   "cell_type": "code",
   "execution_count": null,
   "id": "eb0bca63",
   "metadata": {},
   "outputs": [],
   "source": []
  },
  {
   "cell_type": "code",
   "execution_count": null,
   "id": "3ef04a0e",
   "metadata": {},
   "outputs": [],
   "source": []
  },
  {
   "cell_type": "markdown",
   "id": "8b95d672",
   "metadata": {},
   "source": [
    "0 0 0 0 1 0 0 0 0 \n",
    "0 0 0 2 3 2 0 0 0 \n",
    "0 0 3 4 5 4 3 0 0\n",
    "0 4 5 6 7 6 5 4 0\n",
    "5 6 7 8 9 8 7 6 5"
   ]
  },
  {
   "cell_type": "code",
   "execution_count": 14,
   "id": "be5c03d9",
   "metadata": {},
   "outputs": [
    {
     "name": "stdout",
     "output_type": "stream",
     "text": [
      "0 0 0 0 1 0 0 0 0 \n",
      "0 0 0 2 3 2 0 0 0 \n",
      "0 0 3 4 5 4 3 0 0 \n",
      "0 4 5 6 7 6 5 4 0 \n",
      "5 6 7 8 9 8 7 6 5 \n"
     ]
    }
   ],
   "source": [
    "n = 5\n",
    "\n",
    "term = 1\n",
    "\n",
    "for i in range(1, n+1):\n",
    "    for j in range(1, n+1-i):\n",
    "        print(\"0\", end = \" \")\n",
    "    \n",
    "    # series is 1--> 3--> 5 --> 7 --> 9\n",
    "    \n",
    "    increase_length = term - (term//2) # 1 - (1//2) = 1   term+2 = 3      3 - (3//2) = 2\n",
    "    decrease_length = term//2  # 1//2 = 0    3//2 = 1\n",
    "    \n",
    "    number = i\n",
    "\n",
    "    #increasing order\n",
    "    for k in range(increase_length):\n",
    "        print(number, end=\" \")\n",
    "        number+=1\n",
    "    \n",
    "    number-=2\n",
    "    \n",
    "    #decreasing order\n",
    "    for l in range(decrease_length):\n",
    "        print(number, end=\" \")\n",
    "        number-=1\n",
    "    \n",
    "    for j in range(1, n+1-i):\n",
    "        print(\"0\", end = \" \")\n",
    "    \n",
    "    term +=2\n",
    "    print()"
   ]
  },
  {
   "cell_type": "code",
   "execution_count": null,
   "id": "dcfb9d5f",
   "metadata": {},
   "outputs": [],
   "source": [
    "******\n",
    "*   *\n",
    "*  *\n",
    "* *\n",
    "**\n",
    "*"
   ]
  },
  {
   "cell_type": "code",
   "execution_count": 83,
   "id": "42c06116",
   "metadata": {},
   "outputs": [
    {
     "name": "stdout",
     "output_type": "stream",
     "text": [
      "******\n",
      "*   *\n",
      "*  *\n",
      "* *\n",
      "**\n",
      "*\n",
      "\n",
      "\n"
     ]
    }
   ],
   "source": [
    "n = 6\n",
    "for k in range(0,n):\n",
    "    print(\"*\", end=\"\")\n",
    "print(\"\")\n",
    "for i in range(0, n+1):\n",
    "    for j in range(1, n-i):\n",
    "        if j == 1 or j == n-i-1:\n",
    "            print(\"*\", end=\"\")\n",
    "        else:\n",
    "            print(\" \", end=\"\")\n",
    "    print(\"\")"
   ]
  },
  {
   "cell_type": "code",
   "execution_count": null,
   "id": "6f9a6d07",
   "metadata": {},
   "outputs": [],
   "source": [
    "********** // 0 spaces\n",
    "\n",
    "****__**** // 2 spaces\n",
    "\n",
    "***____*** // 4 spaces\n",
    "\n",
    "**______** // 6 spaces\n",
    "\n",
    "*________* // 8 spaces"
   ]
  },
  {
   "cell_type": "code",
   "execution_count": 60,
   "id": "bbe40389",
   "metadata": {},
   "outputs": [
    {
     "name": "stdout",
     "output_type": "stream",
     "text": [
      "**********\n",
      "****  ****\n",
      "***    ***\n",
      "**      **\n",
      "*        *\n"
     ]
    }
   ],
   "source": [
    "for i in range(n):\n",
    "    for j in range(n-i):\n",
    "        print(\"*\", end=\"\")\n",
    "    for k in range(i*2):\n",
    "        print(\" \", end=\"\" )\n",
    "    for j in range(n-i):\n",
    "        print(\"*\", end=\"\")\n",
    "    print(\"\")"
   ]
  },
  {
   "cell_type": "code",
   "execution_count": null,
   "id": "507fae17",
   "metadata": {},
   "outputs": [],
   "source": []
  },
  {
   "cell_type": "markdown",
   "id": "9b1d1759",
   "metadata": {},
   "source": [
    "* * * * * \n",
    " * * * * \n",
    "  * * * \n",
    "   * *    \n",
    "    * "
   ]
  },
  {
   "cell_type": "code",
   "execution_count": 56,
   "id": "9f915595",
   "metadata": {},
   "outputs": [
    {
     "name": "stdout",
     "output_type": "stream",
     "text": [
      "* * * * * \n",
      " * * * * \n",
      "  * * * \n",
      "   * * \n",
      "    * \n"
     ]
    }
   ],
   "source": [
    "n = 5\n",
    "\n",
    "for i in range(n):\n",
    "\n",
    "    for k in range(i):\n",
    "        print(\" \", end=\"\")\n",
    "\n",
    "    for j in range(1, n+1-i):\n",
    "        print(\"*\", end=\" \")\n",
    "    print()    "
   ]
  },
  {
   "cell_type": "markdown",
   "id": "bdd9c075",
   "metadata": {},
   "source": [
    "*****\n",
    "*   *\n",
    "*   *\n",
    "*   *\n",
    "*****"
   ]
  },
  {
   "cell_type": "code",
   "execution_count": 46,
   "id": "d6be5ef9",
   "metadata": {},
   "outputs": [
    {
     "name": "stdout",
     "output_type": "stream",
     "text": [
      "*****\n",
      "*   *\n",
      "*   *\n",
      "*   *\n",
      "*****\n"
     ]
    }
   ],
   "source": [
    "n = 5\n",
    "\n",
    "for i in range(1, n+1):\n",
    "    if i == 1 or i == n:\n",
    "        for j in range(1, n+1):\n",
    "            print(\"*\", end=\"\")\n",
    "    else:\n",
    "        for j in range(1, n+1):\n",
    "            if j == 1 or j ==n:\n",
    "                print(\"*\", end=\"\")\n",
    "            else:\n",
    "                print(\" \",end=\"\")\n",
    "#         print(\"\")     \n",
    "    print(\"\")"
   ]
  },
  {
   "cell_type": "code",
   "execution_count": null,
   "id": "932a2f76",
   "metadata": {},
   "outputs": [],
   "source": []
  },
  {
   "cell_type": "markdown",
   "id": "1471f542",
   "metadata": {},
   "source": [
    "* \n",
    "**\n",
    "***\n",
    "****\n",
    "*****\n",
    "****\n",
    "***\n",
    "**\n",
    "*"
   ]
  },
  {
   "cell_type": "code",
   "execution_count": 44,
   "id": "d92ae7c8",
   "metadata": {},
   "outputs": [
    {
     "name": "stdout",
     "output_type": "stream",
     "text": [
      "*\n",
      "**\n",
      "***\n",
      "****\n",
      "*****\n",
      "****\n",
      "***\n",
      "**\n",
      "*\n"
     ]
    }
   ],
   "source": [
    "n = 5\n",
    "\n",
    "for i in range(1, n+1):\n",
    "    for j in range(i):\n",
    "        print(\"*\", end=\"\")\n",
    "    print()\n",
    "\n",
    "for i in range(1, n):\n",
    "    for j in range(n-i):\n",
    "        print(\"*\", end=\"\")\n",
    "    print()"
   ]
  },
  {
   "cell_type": "code",
   "execution_count": 43,
   "id": "5ffe008b",
   "metadata": {},
   "outputs": [
    {
     "name": "stdout",
     "output_type": "stream",
     "text": [
      "****\n",
      "***\n",
      "**\n",
      "*\n"
     ]
    }
   ],
   "source": [
    "n = 5\n",
    "for i in range(1, n):\n",
    "    for j in range(n-i):\n",
    "        print(\"*\", end=\"\")\n",
    "    print()"
   ]
  },
  {
   "cell_type": "code",
   "execution_count": null,
   "id": "a4bbf6f6",
   "metadata": {},
   "outputs": [],
   "source": [
    "*________* // 8 spaces\n",
    "\n",
    "**______** // 6 spaces\n",
    "\n",
    "***____*** // 4 spaces\n",
    "\n",
    "****__**** // 2 spaces\n",
    "\n",
    "********** // 0 spaces\n"
   ]
  },
  {
   "cell_type": "code",
   "execution_count": 57,
   "id": "64859a25",
   "metadata": {},
   "outputs": [
    {
     "name": "stdout",
     "output_type": "stream",
     "text": [
      "*        *\n",
      "**      **\n",
      "***    ***\n",
      "****  ****\n",
      "**********\n"
     ]
    }
   ],
   "source": [
    "n = 5\n",
    "\n",
    "for i in range(1, n+1):\n",
    "    for j in range(i):\n",
    "        print(\"*\", end = \"\")\n",
    "    \n",
    "    for k in range(n*2-i*2):\n",
    "        print(\" \", end=\"\")\n",
    "    \n",
    "    for j in range(i):\n",
    "        print(\"*\", end = \"\")\n",
    "    print()"
   ]
  },
  {
   "cell_type": "markdown",
   "id": "c1a655d4",
   "metadata": {},
   "source": [
    "____*\n",
    "___**\n",
    "__***\n",
    "_****\n",
    "*****"
   ]
  },
  {
   "cell_type": "code",
   "execution_count": 11,
   "id": "013e82ca",
   "metadata": {},
   "outputs": [
    {
     "name": "stdout",
     "output_type": "stream",
     "text": [
      "____*\n",
      "___**\n",
      "__***\n",
      "_****\n",
      "*****\n"
     ]
    }
   ],
   "source": [
    "n = 5\n",
    "\n",
    "for i in range(1, n+1):\n",
    "    for j in range(0, n-i):\n",
    "        print(\"_\", end=\"\")\n",
    "    for k in range(i):\n",
    "        print(\"*\", end=\"\")\n",
    "    print()"
   ]
  },
  {
   "cell_type": "code",
   "execution_count": null,
   "id": "6494e9c1",
   "metadata": {},
   "outputs": [],
   "source": [
    "*****\n",
    "_****\n",
    "__***\n",
    "___**\n",
    "____*"
   ]
  },
  {
   "cell_type": "code",
   "execution_count": 47,
   "id": "1a9b1b7e",
   "metadata": {},
   "outputs": [
    {
     "name": "stdout",
     "output_type": "stream",
     "text": [
      "*****\n",
      " ****\n",
      "  ***\n",
      "   **\n",
      "    *\n"
     ]
    }
   ],
   "source": [
    "for i in range(n):\n",
    "    for j in range(i):\n",
    "        print(\" \", end=\"\")\n",
    "    for k in range(n-i):\n",
    "        print(\"*\", end=\"\")\n",
    "    print()"
   ]
  },
  {
   "cell_type": "code",
   "execution_count": null,
   "id": "06c5f6ec",
   "metadata": {},
   "outputs": [],
   "source": [
    "    * \n",
    "   * * \n",
    "  * * * \n",
    " * * * * \n",
    "* * * * * "
   ]
  },
  {
   "cell_type": "code",
   "execution_count": 55,
   "id": "7223f6ce",
   "metadata": {},
   "outputs": [
    {
     "name": "stdout",
     "output_type": "stream",
     "text": [
      "____* \n",
      "___* * \n",
      "__* * * \n",
      "_* * * * \n",
      "* * * * * \n"
     ]
    }
   ],
   "source": [
    "n = 5\n",
    "for i in range(1, n+1):\n",
    "    for j in range(n-i):\n",
    "        print(\"_\", end =\"\")\n",
    "    for k in range(i):\n",
    "        print(\"*\",end=\" \")\n",
    "    print()"
   ]
  },
  {
   "cell_type": "code",
   "execution_count": null,
   "id": "177d42f0",
   "metadata": {},
   "outputs": [],
   "source": [
    "____*\n",
    "___**\n",
    "__***\n",
    "_****\n",
    "*****"
   ]
  }
 ],
 "metadata": {
  "kernelspec": {
   "display_name": "Python 3 (ipykernel)",
   "language": "python",
   "name": "python3"
  },
  "language_info": {
   "codemirror_mode": {
    "name": "ipython",
    "version": 3
   },
   "file_extension": ".py",
   "mimetype": "text/x-python",
   "name": "python",
   "nbconvert_exporter": "python",
   "pygments_lexer": "ipython3",
   "version": "3.8.5"
  }
 },
 "nbformat": 4,
 "nbformat_minor": 5
}
