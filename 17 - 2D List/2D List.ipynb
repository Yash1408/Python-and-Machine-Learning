{
 "cells": [
  {
   "cell_type": "markdown",
   "id": "515d52a9",
   "metadata": {},
   "source": [
    "You are given a matrix A and and an integer B, you have to perform scalar multiplication of matrix A with an integer B."
   ]
  },
  {
   "cell_type": "markdown",
   "id": "7daa88b5",
   "metadata": {},
   "source": [
    "Input : A = [[1, 2, 3],[4, 5, 6],[7, 8, 9]]\n",
    "B = 2 "
   ]
  },
  {
   "cell_type": "markdown",
   "id": "c0961aef",
   "metadata": {},
   "source": [
    "[[2, 4, 6], [8, 10, 12], [14, 16, 18]]"
   ]
  },
  {
   "cell_type": "code",
   "execution_count": 1,
   "id": "302c5fc1",
   "metadata": {},
   "outputs": [],
   "source": [
    "A = [[1, 2, 3],[4, 5, 6],[7, 8, 9]]\n",
    "B = 2 "
   ]
  },
  {
   "cell_type": "code",
   "execution_count": 9,
   "id": "fbb0795e",
   "metadata": {},
   "outputs": [],
   "source": [
    "def scaler_product(A, B):\n",
    "    outer_list = []\n",
    "    for i in A:\n",
    "        inner_list = []\n",
    "        for j in i:\n",
    "            inner_list.append(j*B)\n",
    "        outer_list.append(inner_list)\n",
    "    return outer_list"
   ]
  },
  {
   "cell_type": "code",
   "execution_count": 10,
   "id": "f99f1690",
   "metadata": {},
   "outputs": [
    {
     "data": {
      "text/plain": [
       "[[2, 4, 6], [8, 10, 12], [14, 16, 18]]"
      ]
     },
     "execution_count": 10,
     "metadata": {},
     "output_type": "execute_result"
    }
   ],
   "source": [
    "scaler_product(A, B)"
   ]
  },
  {
   "cell_type": "code",
   "execution_count": null,
   "id": "c003c90c",
   "metadata": {},
   "outputs": [],
   "source": []
  }
 ],
 "metadata": {
  "kernelspec": {
   "display_name": "Python 3 (ipykernel)",
   "language": "python",
   "name": "python3"
  },
  "language_info": {
   "codemirror_mode": {
    "name": "ipython",
    "version": 3
   },
   "file_extension": ".py",
   "mimetype": "text/x-python",
   "name": "python",
   "nbconvert_exporter": "python",
   "pygments_lexer": "ipython3",
   "version": "3.8.5"
  }
 },
 "nbformat": 4,
 "nbformat_minor": 5
}
