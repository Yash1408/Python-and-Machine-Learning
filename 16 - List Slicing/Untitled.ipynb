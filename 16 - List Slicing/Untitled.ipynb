{
 "cells": [
  {
   "cell_type": "markdown",
   "id": "9833a780",
   "metadata": {},
   "source": [
    "1. You are given an integer array A. You have to find the second largest element/value in the array or report that no such element exists."
   ]
  },
  {
   "cell_type": "code",
   "execution_count": 11,
   "id": "0e037648",
   "metadata": {},
   "outputs": [],
   "source": [
    " A = [2, 1, 2,4,6,8]"
   ]
  },
  {
   "cell_type": "code",
   "execution_count": 12,
   "id": "1fe99e7a",
   "metadata": {},
   "outputs": [],
   "source": [
    "A = list(set(A))"
   ]
  },
  {
   "cell_type": "code",
   "execution_count": 13,
   "id": "3a9d1723",
   "metadata": {},
   "outputs": [],
   "source": [
    "A.sort()"
   ]
  },
  {
   "cell_type": "code",
   "execution_count": 14,
   "id": "17fc0e19",
   "metadata": {},
   "outputs": [
    {
     "data": {
      "text/plain": [
       "[1, 2, 4, 6, 8]"
      ]
     },
     "execution_count": 14,
     "metadata": {},
     "output_type": "execute_result"
    }
   ],
   "source": [
    "A"
   ]
  },
  {
   "cell_type": "code",
   "execution_count": 15,
   "id": "881723b1",
   "metadata": {},
   "outputs": [
    {
     "data": {
      "text/plain": [
       "6"
      ]
     },
     "execution_count": 15,
     "metadata": {},
     "output_type": "execute_result"
    }
   ],
   "source": [
    "A[-2]"
   ]
  },
  {
   "cell_type": "markdown",
   "id": "55d26b9e",
   "metadata": {},
   "source": [
    "2. Write a program that returns the list of elements that are present in the given list and are divisible by 5 and 7."
   ]
  },
  {
   "cell_type": "code",
   "execution_count": 16,
   "id": "0f3e6a98",
   "metadata": {},
   "outputs": [
    {
     "name": "stdout",
     "output_type": "stream",
     "text": [
      "[35]\n"
     ]
    }
   ],
   "source": [
    "lst = [2,5,35]\n",
    "\n",
    "elements=[]\n",
    "# YOUR CODE GOES HERE\n",
    "for i in lst:\n",
    "     if i%5==0 and i%7==0:\n",
    "          elements.append(i)\n",
    "print(elements)"
   ]
  },
  {
   "cell_type": "markdown",
   "id": "001ceb8d",
   "metadata": {},
   "source": []
  },
  {
   "cell_type": "code",
   "execution_count": 17,
   "id": "42be475a",
   "metadata": {},
   "outputs": [
    {
     "data": {
      "text/plain": [
       "[1, 3, 4]"
      ]
     },
     "execution_count": 17,
     "metadata": {},
     "output_type": "execute_result"
    }
   ],
   "source": [
    "[1, 3, 4, 4, 3, 1, 2, 3, 2][:3]"
   ]
  },
  {
   "cell_type": "markdown",
   "id": "6f847f8c",
   "metadata": {},
   "source": [
    "Given a sorted integer array A, and an integer B. Find the first and last index of B in A.\n",
    "It is guaranteed that B exists in A. Return an array C of size 2, where C[0] is the first index of B in A and C[1] is the last index of B in A.\n",
    "\n",
    "Note - Indexing of A starts from 0. If the element only exists once, the values of both elements in the C list should be the same."
   ]
  },
  {
   "cell_type": "code",
   "execution_count": 36,
   "id": "6cde68ee",
   "metadata": {},
   "outputs": [],
   "source": [
    "A = [-2, -2, 4, 4, 8, 9]"
   ]
  },
  {
   "cell_type": "code",
   "execution_count": 48,
   "id": "075ce206",
   "metadata": {},
   "outputs": [
    {
     "name": "stdout",
     "output_type": "stream",
     "text": [
      "3\n"
     ]
    }
   ],
   "source": [
    "for i in range(len(A)-1, -1, -1):\n",
    "    if(A[i] == 4):\n",
    "        print(i)\n",
    "        break"
   ]
  },
  {
   "cell_type": "code",
   "execution_count": 37,
   "id": "a2567da9",
   "metadata": {},
   "outputs": [
    {
     "data": {
      "text/plain": [
       "2"
      ]
     },
     "execution_count": 37,
     "metadata": {},
     "output_type": "execute_result"
    }
   ],
   "source": [
    "A.index(4)"
   ]
  },
  {
   "cell_type": "code",
   "execution_count": 38,
   "id": "0f4c4f54",
   "metadata": {},
   "outputs": [
    {
     "data": {
      "text/plain": [
       "[9, 8, 4, 4, -2, -2]"
      ]
     },
     "execution_count": 38,
     "metadata": {},
     "output_type": "execute_result"
    }
   ],
   "source": [
    "A[::-1]"
   ]
  },
  {
   "cell_type": "code",
   "execution_count": 28,
   "id": "fbdcd14d",
   "metadata": {},
   "outputs": [
    {
     "data": {
      "text/plain": [
       "2"
      ]
     },
     "execution_count": 28,
     "metadata": {},
     "output_type": "execute_result"
    }
   ],
   "source": [
    "A[-1::-1].index(4)   "
   ]
  },
  {
   "cell_type": "markdown",
   "id": "cebb63b4",
   "metadata": {},
   "source": [
    "Modify the value of variable w, x, y and z such that the program outputs [8, 6, 4]:"
   ]
  },
  {
   "cell_type": "code",
   "execution_count": 79,
   "id": "e5f467c4",
   "metadata": {},
   "outputs": [
    {
     "name": "stdout",
     "output_type": "stream",
     "text": [
      "[8, 6, 4]\n"
     ]
    }
   ],
   "source": [
    "w = 2  # <- Change this\n",
    "x = 2  # <- Change this\n",
    "y = 7  # <- Change this\n",
    "z = -1  # <- Change this\n",
    "\n",
    "lst = [1, 2, 3, 4, 5, 6, 7, 8, 9, 10]\n",
    "\n",
    "first_slice = lst[::z]\n",
    "second_slice = first_slice[:y]\n",
    "third_slice = second_slice[x:]\n",
    "last_slice = third_slice[::w]\n",
    "\n",
    "print(last_slice)"
   ]
  },
  {
   "cell_type": "code",
   "execution_count": 71,
   "id": "2f602b3f",
   "metadata": {},
   "outputs": [
    {
     "data": {
      "text/plain": [
       "[8, 6, 4]"
      ]
     },
     "execution_count": 71,
     "metadata": {},
     "output_type": "execute_result"
    }
   ],
   "source": [
    "lst = [1, 2, 3, 4, 5, 6, 7, 8, 9, 10]\n",
    "\n",
    "lst[::-1][2:][:5][::2]"
   ]
  },
  {
   "cell_type": "code",
   "execution_count": 78,
   "id": "19eb92df",
   "metadata": {},
   "outputs": [
    {
     "data": {
      "text/plain": [
       "[8, 6, 4]"
      ]
     },
     "execution_count": 78,
     "metadata": {},
     "output_type": "execute_result"
    }
   ],
   "source": [
    "lst[::-1][:7][2:][::2]"
   ]
  },
  {
   "cell_type": "markdown",
   "id": "82229c05",
   "metadata": {},
   "source": [
    "Given a sorted integer array A and an integer B. Find the ceil and floor of B in the array A.\n",
    "\n",
    "- Ceil of an integer X in the array is an element which is just greater than or equal to X.\n",
    "- Floor of an integer X in the array is an element which is just smaller than or equal to X.\n",
    "\n",
    "Return an array of size 2. The first element of the array will be ceil of B and the second element will be the floor.\n"
   ]
  },
  {
   "cell_type": "code",
   "execution_count": 1,
   "id": "8fb57da5",
   "metadata": {},
   "outputs": [],
   "source": [
    " def solve(self, A, B):\n",
    "        c = []\n",
    "        A.sort()\n",
    "        for i in range(len(A)):\n",
    "            if A[i]>=B:\n",
    "                ceil = A[i]\n",
    "                c.append(ceil)\n",
    "                break\n",
    "        A = A[::-1]\n",
    "        for i in range(len(A)):\n",
    "            if A[i]<=B:\n",
    "                floor = A[i]\n",
    "                c.append(floor)\n",
    "                break\n",
    "        \n",
    "        return c"
   ]
  },
  {
   "cell_type": "markdown",
   "id": "c99a5c00",
   "metadata": {},
   "source": [
    "Given an integer array A, find the inverse of the array A and return it. All the elements of the given array are distinct and elements of the array lie in the range [0, |A|).\n",
    "\n",
    "The inverse of the array means the array elements are swapped with their corresponding indices.\n",
    "\n",
    "For example, Let's say we have an array A = [2, 0, 1], the inverse of A would be [1, 2, 0].\n",
    "\n",
    "    Since 2 is at index 0 in A, we shift the element 2 to the index of element 0 in the original list A.\n",
    "    Since 0 is at index 1 in A, we shift the element 0 to the index of element 1 in the original list A.\n",
    "    Since 1 is at index 2 in A, we shift the element 1 to the index of element 2 in the original list A.\n",
    "    This gives us the inverse of the list which is [1, 2, 0]\n"
   ]
  },
  {
   "cell_type": "code",
   "execution_count": 18,
   "id": "d043c1d6",
   "metadata": {},
   "outputs": [],
   "source": [
    "A = [3, 1, 0, 2]"
   ]
  },
  {
   "cell_type": "code",
   "execution_count": 19,
   "id": "b80d35e1",
   "metadata": {},
   "outputs": [],
   "source": [
    "B = A.copy()\n",
    "\n",
    "for i in range(len(A)):\n",
    "    B[A[i]] = i"
   ]
  },
  {
   "cell_type": "code",
   "execution_count": 20,
   "id": "05f02c77",
   "metadata": {},
   "outputs": [
    {
     "data": {
      "text/plain": [
       "[2, 1, 3, 0]"
      ]
     },
     "execution_count": 20,
     "metadata": {},
     "output_type": "execute_result"
    }
   ],
   "source": [
    "B"
   ]
  },
  {
   "cell_type": "code",
   "execution_count": 21,
   "id": "f7e1359e",
   "metadata": {},
   "outputs": [
    {
     "data": {
      "text/plain": [
       "[3, 1, 0, 2]"
      ]
     },
     "execution_count": 21,
     "metadata": {},
     "output_type": "execute_result"
    }
   ],
   "source": [
    "A"
   ]
  },
  {
   "cell_type": "code",
   "execution_count": null,
   "id": "0debca0d",
   "metadata": {},
   "outputs": [],
   "source": []
  }
 ],
 "metadata": {
  "kernelspec": {
   "display_name": "Python 3 (ipykernel)",
   "language": "python",
   "name": "python3"
  },
  "language_info": {
   "codemirror_mode": {
    "name": "ipython",
    "version": 3
   },
   "file_extension": ".py",
   "mimetype": "text/x-python",
   "name": "python",
   "nbconvert_exporter": "python",
   "pygments_lexer": "ipython3",
   "version": "3.8.5"
  }
 },
 "nbformat": 4,
 "nbformat_minor": 5
}
